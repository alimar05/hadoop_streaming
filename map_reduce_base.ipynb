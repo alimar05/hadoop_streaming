{
 "cells": [
  {
   "cell_type": "markdown",
   "metadata": {},
   "source": [
    "# Word count"
   ]
  },
  {
   "cell_type": "markdown",
   "metadata": {},
   "source": [
    "Напишите программу, которая реализует In-mapper combining v.1 для задачи WordCount в Hadoop Streaming.\n",
    "Sample Input:\n",
    "\n",
    "\n",
    "    aut Caesar aut nihil\n",
    "    aut aut\n",
    "    de mortuis aut bene aut nihil\n",
    "    \n",
    "    Sample Output:\n",
    "    nihil\t1\n",
    "    aut\t2\n",
    "    Caesar\t1\n",
    "    aut\t2\n",
    "    nihil\t1\n",
    "    aut\t2\n",
    "    de\t1\n",
    "    bene\t1\n",
    "    mortuis\t1"
   ]
  },
  {
   "cell_type": "code",
   "execution_count": 84,
   "metadata": {},
   "outputs": [
    {
     "name": "stdout",
     "output_type": "stream",
     "text": [
      "aut\t2\n",
      "Caesar\t1\n",
      "nihil\t1\n",
      "aut\t2\n",
      "de\t1\n",
      "mortuis\t1\n",
      "aut\t2\n",
      "bene\t1\n",
      "nihil\t1\n"
     ]
    }
   ],
   "source": [
    "from collections import Counter\n",
    "\n",
    "\n",
    "with open('data/data1.txt', 'r') as f:\n",
    "    for line in f:\n",
    "        for key, value in Counter(line.strip().split()).items():\n",
    "            print(f'{key}\\t{value}')"
   ]
  },
  {
   "cell_type": "markdown",
   "metadata": {},
   "source": [
    "Напишите программу, которая реализует In-mapper combining v.2"
   ]
  },
  {
   "cell_type": "code",
   "execution_count": 85,
   "metadata": {},
   "outputs": [
    {
     "name": "stdout",
     "output_type": "stream",
     "text": [
      "aut\t6\n",
      "Caesar\t1\n",
      "nihil\t2\n",
      "de\t1\n",
      "mortuis\t1\n",
      "bene\t1\n"
     ]
    }
   ],
   "source": [
    "with open('data/data1.txt', 'r') as f:\n",
    "    for key, value in Counter([token for term in f.read().splitlines() for token in term.split(' ')]).items():\n",
    "        print(f'{key}\\t{value}')"
   ]
  },
  {
   "cell_type": "markdown",
   "metadata": {},
   "source": [
    "---"
   ]
  },
  {
   "cell_type": "markdown",
   "metadata": {},
   "source": [
    "Реализуйте reducer в задаче подсчета среднего времени, проведенного пользователем на странице.\n",
    "\n",
    "Mapper передает в reducer данные в виде key / value, где key - адрес страницы, value - число секунд, проведенных пользователем на данной странице.\n",
    "\n",
    "Среднее время на выходе приведите к целому числу.\n",
    "\n",
    "Sample Input:\n",
    "\n",
    "    www.facebook.com\t100\n",
    "    www.google.com\t10\n",
    "    www.google.com\t5\n",
    "    www.google.com\t15\n",
    "    www.stepic.org\t60\n",
    "    www.stepic.org\t100\n",
    "    \n",
    "Sample Output:\n",
    "\n",
    "    www.facebook.com\t100\n",
    "    www.google.com\t10\n",
    "    www.stepic.org\t80"
   ]
  },
  {
   "cell_type": "code",
   "execution_count": 2,
   "metadata": {},
   "outputs": [
    {
     "name": "stdout",
     "output_type": "stream",
     "text": [
      "www.facebook.com\t100\n",
      "www.google.com\t10\n",
      "www.stepic.org\t80\n"
     ]
    }
   ],
   "source": [
    "last_key, _sum = None, 0\n",
    "\n",
    "with open('data/data2.txt', 'r') as f:\n",
    "    \n",
    "    i = 0\n",
    "    for line in f:\n",
    "        key, value = line.strip().split()\n",
    "        if last_key and last_key != key:\n",
    "            print(f'{last_key}\\t{int(_sum/i)}')\n",
    "            last_key, _sum = key, int(value)\n",
    "            i = 1\n",
    "        else:\n",
    "            last_key, _sum = key, _sum + int(value)\n",
    "            i += 1\n",
    "            \n",
    "    if last_key:\n",
    "        print(f'{last_key}\\t{int(_sum/i)}')"
   ]
  },
  {
   "cell_type": "markdown",
   "metadata": {},
   "source": [
    "---"
   ]
  },
  {
   "cell_type": "markdown",
   "metadata": {},
   "source": [
    "Реализуйте Combiner в задаче подсчета среднего времени, проведенного пользователем на странице.\n",
    "\n",
    "Mapper пишет данные в виде key / value, где key - адрес страницы, value - пара чисел, разделенных \";\". Первое - число секунд, проведенных пользователем на данной странице, второе равно 1.\n",
    "\n",
    "Sample Input:\n",
    "\n",
    "    www.facebook.com\t100;1\n",
    "    www.google.com\t10;1\n",
    "    www.google.com\t5;1\n",
    "    www.google.com\t15;1\n",
    "    stepic.org\t60;1\n",
    "    stepic.org\t100;1\n",
    "    \n",
    "Sample Output:\n",
    "\n",
    "    www.facebook.com\t100;1\n",
    "    www.google.com\t30;3\n",
    "    stepic.org\t160;2"
   ]
  },
  {
   "cell_type": "code",
   "execution_count": 88,
   "metadata": {},
   "outputs": [
    {
     "name": "stdout",
     "output_type": "stream",
     "text": [
      "www.facebook.com\t100;1\n",
      "www.google.com\t30;3\n",
      "stepic.org\t160;2\n"
     ]
    }
   ],
   "source": [
    "with open('data/data3.txt', 'r') as f:\n",
    "\n",
    "    last_key, sum1, sum2 = None, 0, 0\n",
    "    \n",
    "    for line in f:\n",
    "        key, value = line.strip().split()\n",
    "        value1, value2 = value.split(';')\n",
    "        if last_key and last_key != key:\n",
    "            print(f'{last_key}\\t{sum1};{sum2}')\n",
    "            last_key, sum1, sum2 = key, int(value1), int(value2)\n",
    "        else:\n",
    "            last_key, sum1, sum2 = key, sum1+int(value1), sum2+int(value2)\n",
    "\n",
    "    if last_key:\n",
    "        print(f'{key}\\t{sum1};{sum2}')\n"
   ]
  },
  {
   "cell_type": "markdown",
   "metadata": {},
   "source": [
    "# Distinct Values"
   ]
  },
  {
   "cell_type": "markdown",
   "metadata": {},
   "source": [
    "Реализуйте mapper из фазы 1 задачи Distinct Values v1. \n",
    "\n",
    "Mapper принимает на вход строку, содержащую значение и через табуляцию список групп, разделенных запятой.\n",
    "\n",
    "Sample Input:\n",
    "\n",
    "    1\ta,b\n",
    "    2\ta,d,e\n",
    "    1\tb\n",
    "    3\ta,b\n",
    "\n",
    "Sample Output:\n",
    "\n",
    "    1,a\t1\n",
    "    1,b\t1\n",
    "    2,a\t1\n",
    "    2,d\t1\n",
    "    2,e\t1\n",
    "    1,b\t1\n",
    "    3,a\t1\n",
    "    3,b\t1"
   ]
  },
  {
   "cell_type": "code",
   "execution_count": 89,
   "metadata": {},
   "outputs": [
    {
     "name": "stdout",
     "output_type": "stream",
     "text": [
      "1,a\t1\n",
      "1,b\t1\n",
      "2,a\t1\n",
      "2,d\t1\n",
      "2,e\t1\n",
      "1,b\t1\n",
      "3,a\t1\n",
      "3,b\t1\n"
     ]
    }
   ],
   "source": [
    "with open('data/data4.txt', 'r') as f:\n",
    "    \n",
    "    for line in f:\n",
    "        key, values = line.strip().split()\n",
    "        for value in values.split(','):\n",
    "            print(f'{key},{value}\\t1')"
   ]
  },
  {
   "cell_type": "markdown",
   "metadata": {},
   "source": [
    "---"
   ]
  },
  {
   "cell_type": "markdown",
   "metadata": {},
   "source": [
    "Реализуйте reducer из фазы 1 задачи Distinct Values v1.\n",
    "\n",
    "Reducer принимает на вход данные, созданные mapper из предыдущей шага.\n",
    "\n",
    "Sample Input:\n",
    "\n",
    "    1,a\t1\n",
    "    1,b\t1\n",
    "    1,b\t1\n",
    "    2,a\t1\n",
    "    2,d\t1\n",
    "    2,e\t1\n",
    "    3,a\t1\n",
    "    3,b\t1\n",
    "\n",
    "Sample Output:\n",
    "\n",
    "    1,a\n",
    "    1,b\n",
    "    2,a\n",
    "    2,d\n",
    "    2,e\n",
    "    3,a\n",
    "    3,b"
   ]
  },
  {
   "cell_type": "code",
   "execution_count": 91,
   "metadata": {},
   "outputs": [
    {
     "name": "stdout",
     "output_type": "stream",
     "text": [
      "1,a\n",
      "1,b\n",
      "2,a\n",
      "2,d\n",
      "2,e\n",
      "3,a\n",
      "3,b\n"
     ]
    }
   ],
   "source": [
    "with open('data/data5.txt', 'r') as f:\n",
    "    \n",
    "    tmp = None\n",
    "    for line in f:\n",
    "        key, value = line.strip().split()\n",
    "        if key != tmp:\n",
    "            tmp = key\n",
    "            print(tmp)"
   ]
  },
  {
   "cell_type": "markdown",
   "metadata": {},
   "source": [
    "---"
   ]
  },
  {
   "cell_type": "markdown",
   "metadata": {},
   "source": [
    "Реализуйте mapper из фазы 2 задачи Distinct Values v1.\n",
    "\n",
    "Mapper принимает на вход строку, содержащую значение и группу, разделенные запятой.\n",
    "\n",
    "Sample Input:\n",
    "\n",
    "    1,a\n",
    "    2,a\n",
    "    3,a\n",
    "    1,b\n",
    "    3,b\n",
    "    2,d\n",
    "    2,e\n",
    "    \n",
    "Sample Output:\n",
    "\n",
    "    a\t1\n",
    "    a\t1\n",
    "    a\t1\n",
    "    b\t1\n",
    "    b\t1\n",
    "    d\t1\n",
    "    e\t1"
   ]
  },
  {
   "cell_type": "code",
   "execution_count": 92,
   "metadata": {},
   "outputs": [
    {
     "name": "stdout",
     "output_type": "stream",
     "text": [
      "a\t1\n",
      "a\t1\n",
      "a\t1\n",
      "b\t1\n",
      "b\t1\n",
      "d\t1\n",
      "e\t1\n"
     ]
    }
   ],
   "source": [
    "with open('data/data6.txt', 'r') as f:\n",
    "    \n",
    "    for line in f:\n",
    "        _, value = line.strip().split(',')\n",
    "        print(f'{value}\\t1')"
   ]
  },
  {
   "cell_type": "markdown",
   "metadata": {},
   "source": [
    "---"
   ]
  },
  {
   "cell_type": "markdown",
   "metadata": {},
   "source": [
    "Реализуйте reducer из задачи Distinct Values v2.\n",
    "\n",
    "Reducer принимает на вход строки, каждая из которых состоит из разделенных табуляцией значения и названия группы.\n",
    "\n",
    "Sample Input:\n",
    "\n",
    "    1\ta\n",
    "    1\tb\n",
    "    1\tb\n",
    "    2\ta\n",
    "    2\td\n",
    "    2\te\n",
    "    3\ta\n",
    "    3\tb\n",
    "    \n",
    "Sample Output:\n",
    "\n",
    "    a\t3\n",
    "    d\t1\n",
    "    b\t2\n",
    "    e\t1"
   ]
  },
  {
   "cell_type": "code",
   "execution_count": 94,
   "metadata": {},
   "outputs": [
    {
     "name": "stdout",
     "output_type": "stream",
     "text": [
      "a\t3\n",
      "b\t2\n",
      "d\t1\n",
      "e\t1\n"
     ]
    }
   ],
   "source": [
    "with open('data/data7.txt') as f:\n",
    "    d = {}\n",
    "    for line in f:\n",
    "        value, key = line.strip().split()\n",
    "        d.setdefault(key, set()).add(value)\n",
    "\n",
    "    for key, value in d.items():\n",
    "        print(f\"{key}\\t{len(value)}\")"
   ]
  },
  {
   "cell_type": "markdown",
   "metadata": {},
   "source": [
    "# Cross-Correlation"
   ]
  },
  {
   "cell_type": "markdown",
   "metadata": {},
   "source": [
    "Реализуйте mapper для задачи Cross-Correlation, который для каждого кортежа создает все пары элементов, входящих в него.\n",
    "\n",
    "Mapper принимает на вход кортежи - строки, состоящие из объектов, разделенных пробелом.\n",
    "\n",
    "Mapper пишет данные в виде key / value, где key - пара объектов, разделенных запятой, value - единица.\n",
    "\n",
    "Sample Input:\n",
    "\n",
    "    a b\n",
    "    a b a c\n",
    "    \n",
    "Sample Output:\n",
    "\n",
    "    a,b\t1\n",
    "    b,a\t1\n",
    "    a,b\t1\n",
    "    a,c\t1\n",
    "    b,a\t1\n",
    "    b,a\t1\n",
    "    b,c\t1\n",
    "    a,b\t1\n",
    "    a,c\t1\n",
    "    c,a\t1\n",
    "    c,b\t1\n",
    "    c,a\t1"
   ]
  },
  {
   "cell_type": "code",
   "execution_count": 95,
   "metadata": {},
   "outputs": [
    {
     "name": "stdout",
     "output_type": "stream",
     "text": [
      "a,b\t1\n",
      "b,a\t1\n",
      "a,b\t1\n",
      "a,c\t1\n",
      "b,a\t1\n",
      "b,a\t1\n",
      "b,c\t1\n",
      "a,b\t1\n",
      "a,c\t1\n",
      "c,a\t1\n",
      "c,b\t1\n",
      "c,a\t1\n"
     ]
    }
   ],
   "source": [
    "with open('data/data8.txt', 'r') as f:\n",
    "    \n",
    "    for line in f:\n",
    "        list_items = line.strip().split()\n",
    "        for item1 in list_items:\n",
    "            for item2 in list_items:\n",
    "                if item1 != item2:\n",
    "                    print(f'{item1},{item2}\\t1')"
   ]
  },
  {
   "cell_type": "markdown",
   "metadata": {},
   "source": [
    "---"
   ]
  },
  {
   "cell_type": "markdown",
   "metadata": {},
   "source": [
    "Реализуйте mapper для задачи Cross-Correlation, который для каждого объекта из кортежа создает stripe.\n",
    "\n",
    "Mapper принимает на вход кортежи - строки, состоящие из объектов, разделенных пробелом.\n",
    "\n",
    "Mapper пишет данные в виде key / value, где key - объект, value - соответствующий stripe (пример: a:1,b:2,c:3)\n",
    "\n",
    "Sample Input:\n",
    "\n",
    "    a b\n",
    "    a b a c\n",
    "\n",
    "Sample Output:\n",
    "\n",
    "    a\tb:1\n",
    "    b\ta:1\n",
    "    a\tb:1,c:1\n",
    "    b\ta:2,c:1\n",
    "    a\tb:1,c:1\n",
    "    c\tb:1,a:2"
   ]
  },
  {
   "cell_type": "code",
   "execution_count": 96,
   "metadata": {},
   "outputs": [
    {
     "name": "stdout",
     "output_type": "stream",
     "text": [
      "a\tb:1\n",
      "b\ta:1\n",
      "a\tb:1,c:1\n",
      "b\ta:2,c:1\n",
      "a\tb:1,c:1\n",
      "c\ta:2,b:1\n"
     ]
    }
   ],
   "source": [
    "from collections import defaultdict\n",
    "\n",
    "with open('data/data8.txt', 'r') as f:\n",
    "    \n",
    "    for line in f:\n",
    "        list_items = line.strip().split()\n",
    "        for item1 in list_items:\n",
    "            d = defaultdict(int)\n",
    "            for item2 in list_items:\n",
    "                if item1 != item2:\n",
    "                    d[item2] += 1\n",
    "            print(f\"{item1}\\t{','.join([f'{key}:{value}' for key, value in d.items()])}\")"
   ]
  }
 ],
 "metadata": {
  "kernelspec": {
   "display_name": "Python 3",
   "language": "python",
   "name": "python3"
  },
  "language_info": {
   "codemirror_mode": {
    "name": "ipython",
    "version": 3
   },
   "file_extension": ".py",
   "mimetype": "text/x-python",
   "name": "python",
   "nbconvert_exporter": "python",
   "pygments_lexer": "ipython3",
   "version": "3.8.5"
  }
 },
 "nbformat": 4,
 "nbformat_minor": 4
}
