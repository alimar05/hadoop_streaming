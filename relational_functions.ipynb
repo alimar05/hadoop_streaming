{
 "cells": [
  {
   "cell_type": "markdown",
   "metadata": {},
   "source": [
    "Дан файл с логами переходов пользователей. Каждая строка состоит из 3 полей: время перехода (unix timestamp), ID пользователя, URL, на который перешел пользователь.\n",
    "\n",
    "Напишите mapper с помощью Hadoop Streaming, печатающий только те строки из файла, которые соответствуют пользователю user10.\n",
    "\n",
    "Sample Input:\n",
    "\n",
    "    1448713968\tuser2\thttps://ru.wikipedia.org/\n",
    "    1448764519\tuser10\thttps://stepic.org/\n",
    "    1448713968\tuser5\thttp://google.com/\n",
    "    1448773411\tuser10\thttps://stepic.org/explore/courses\n",
    "    1448709864\tuser3\thttp://vk.com/\n",
    "\n",
    "Sample Output:\n",
    "\n",
    "    1448764519\tuser10\thttps://stepic.org/\n",
    "    1448773411\tuser10\thttps://stepic.org/explore/courses"
   ]
  },
  {
   "cell_type": "code",
   "execution_count": 2,
   "metadata": {},
   "outputs": [
    {
     "name": "stdout",
     "output_type": "stream",
     "text": [
      "1448764519\tuser10\thttps://stepic.org/\n",
      "1448773411\tuser10\thttps://stepic.org/explore/courses\n"
     ]
    }
   ],
   "source": [
    "with open('data/data9.txt', 'r') as f:\n",
    "    \n",
    "    for line in f:\n",
    "        timestamp, user_id, url = line.strip().split()\n",
    "        if user_id == 'user10':\n",
    "            print(f'{timestamp}\\t{user_id}\\t{url}')"
   ]
  },
  {
   "cell_type": "markdown",
   "metadata": {},
   "source": [
    "---"
   ]
  },
  {
   "cell_type": "markdown",
   "metadata": {},
   "source": [
    "Дан файл с логами переходов пользователей. Каждая строка состоит из 3 полей: время перехода (unix timestamp), ID пользователя, URL, на который перешел пользователь.\n",
    "\n",
    "Напишите mapper с помощью Hadoop Streaming, печатающий URL из каждой строки.\n",
    "\n",
    "Sample Input:\n",
    "\n",
    "    1448713968\tuser2\thttps://ru.wikipedia.org/\n",
    "    1448764519\tuser10\thttps://stepic.org/\n",
    "    1448713968\tuser5\thttp://google.com/\n",
    "    1448773411\tuser10\thttps://stepic.org/explore/courses\n",
    "    1448709864\tuser3\thttp://vk.com/\n",
    "   \n",
    "Sample Output:\n",
    "\n",
    "    https://ru.wikipedia.org/\n",
    "    https://stepic.org/\n",
    "    http://google.com/\n",
    "    https://stepic.org/explore/courses\n",
    "    http://vk.com/"
   ]
  },
  {
   "cell_type": "code",
   "execution_count": 3,
   "metadata": {},
   "outputs": [
    {
     "name": "stdout",
     "output_type": "stream",
     "text": [
      "https://ru.wikipedia.org/\n",
      "https://stepic.org/\n",
      "http://google.com/\n",
      "https://stepic.org/explore/courses\n",
      "http://vk.com/\n"
     ]
    }
   ],
   "source": [
    "with open('data/data9.txt', 'r') as f:\n",
    "    \n",
    "    for line in f:\n",
    "        timestamp, user_id, url = line.strip().split()\n",
    "        print(f'{url}')"
   ]
  },
  {
   "cell_type": "markdown",
   "metadata": {},
   "source": [
    "---"
   ]
  },
  {
   "cell_type": "markdown",
   "metadata": {},
   "source": [
    "Напишите reducer, который объединяет элементы из множества A и B. На вход в reducer приходят пары key / value, где key - элемент множества, value - маркер множества (A или B)\n",
    "\n",
    "Sample Input:\n",
    "\n",
    "    1\tA\n",
    "    2\tA\n",
    "    2\tB\n",
    "    3\tB\n",
    "    \n",
    "Sample Output:\n",
    "\n",
    "    1\n",
    "    2\n",
    "    3"
   ]
  },
  {
   "cell_type": "code",
   "execution_count": 4,
   "metadata": {},
   "outputs": [
    {
     "name": "stdout",
     "output_type": "stream",
     "text": [
      "1\n",
      "2\n",
      "3\n"
     ]
    }
   ],
   "source": [
    "with open('data/data10.txt', 'r') as f:\n",
    "    \n",
    "    last_key = None\n",
    "    \n",
    "    for line in f:\n",
    "        key, _ = line.strip().split()\n",
    "        if last_key and last_key != key:\n",
    "            print(f'{last_key}')\n",
    "        last_key = key\n",
    "    if last_key:\n",
    "        print(f'{last_key}')\n",
    "            "
   ]
  },
  {
   "cell_type": "markdown",
   "metadata": {},
   "source": [
    "---"
   ]
  },
  {
   "cell_type": "markdown",
   "metadata": {},
   "source": [
    "Напишите reducer, который делает пересечение элементов из множества A и B. На вход в reducer приходят пары key / value, где key - элемент множества, value - маркер множества (A или B)\n",
    "Sample Input:\n",
    "\n",
    "    1\tA\n",
    "    2\tA\n",
    "    2\tB\n",
    "    3\tB\n",
    "\n",
    "Sample Output:\n",
    "\n",
    "    2"
   ]
  },
  {
   "cell_type": "code",
   "execution_count": 9,
   "metadata": {},
   "outputs": [
    {
     "name": "stdout",
     "output_type": "stream",
     "text": [
      "2\n"
     ]
    }
   ],
   "source": [
    "with open('data/data10.txt', 'r') as f:\n",
    "    \n",
    "    last_key = None\n",
    "\n",
    "    for line in f:\n",
    "        key = line.strip().split()[0]\n",
    "        if key == last_key:\n",
    "            print(last_key)\n",
    "        last_key = key"
   ]
  },
  {
   "cell_type": "markdown",
   "metadata": {},
   "source": [
    "---"
   ]
  },
  {
   "cell_type": "markdown",
   "metadata": {},
   "source": [
    "Напишите reducer, который делает вычитание элементов множества B из множества A. На вход в reducer приходят пары key / value, где key - элемент множества, value - маркер множества (A или B)\n",
    "\n",
    "Sample Input:\n",
    "\n",
    "    1\tA\n",
    "    2\tA\n",
    "    2\tB\n",
    "    3\tB\n",
    "   \n",
    "Sample Output:\n",
    "\n",
    "    1"
   ]
  },
  {
   "cell_type": "code",
   "execution_count": 71,
   "metadata": {},
   "outputs": [
    {
     "name": "stdout",
     "output_type": "stream",
     "text": [
      "1\n"
     ]
    }
   ],
   "source": [
    "with open('data/data10.txt', 'r') as f:\n",
    "    \n",
    "    b = 'B'\n",
    "    last_key, last_value = None, None\n",
    "    for line in f:\n",
    "        key, value = line.strip().split()\n",
    "        if last_key and last_value:\n",
    "\n",
    "            if last_key != key and last_value != b:\n",
    "                print(last_key)                \n",
    "\n",
    "        last_key, last_value = key, value\n",
    "\n",
    "    if last_key and last_value != b:\n",
    "        print(last_key)"
   ]
  },
  {
   "cell_type": "markdown",
   "metadata": {},
   "source": [
    "---"
   ]
  },
  {
   "cell_type": "markdown",
   "metadata": {},
   "source": [
    "Напишите reducer, который реализует симметричную разность множеств A и B (т.е. оставляет только те элементы, которые есть только в одном из множеств). \n",
    "На вход в reducer приходят пары key / value, где key - элемент множества, value - маркер множества (A или B)\n",
    "Sample Input:\n",
    "\n",
    "    1\tA\n",
    "    2\tA\n",
    "    2\tB\n",
    "    3\tB\n",
    "    \n",
    "Sample Output:\n",
    "\n",
    "    1\n",
    "    3"
   ]
  },
  {
   "cell_type": "code",
   "execution_count": 52,
   "metadata": {},
   "outputs": [
    {
     "name": "stdout",
     "output_type": "stream",
     "text": [
      "1\n",
      "3\n",
      "4\n",
      "6\n",
      "7\n"
     ]
    }
   ],
   "source": [
    "with open('data/data11.txt', 'r') as f:\n",
    "    \n",
    "    last_key, last_value = None, None\n",
    "    \n",
    "    key_intersect = None\n",
    "\n",
    "    for line in f:\n",
    "        key, value = line.strip().split()\n",
    "\n",
    "        if last_key and last_value:\n",
    "            \n",
    "            if last_key == key:\n",
    "                key_intersect = key\n",
    "                \n",
    "            if last_key != key_intersect:\n",
    "                print(last_key)\n",
    "\n",
    "        last_key, last_value = key, value\n",
    "        \n",
    "    if last_key and last_key != key_intersect:\n",
    "        print(last_key)"
   ]
  },
  {
   "cell_type": "markdown",
   "metadata": {},
   "source": [
    "---"
   ]
  },
  {
   "cell_type": "markdown",
   "metadata": {},
   "source": [
    "Напишите reducer, реализующий объединение двух файлов (Join) по id пользователя. Первый файл содержит 2 поля через табуляцию: id пользователя и запрос в поисковой системе. Второй файл содержит id пользователя и URL, на который перешел пользователь в поисковой системе. \n",
    "\n",
    "Mapper передает данные в reducer в виде key / value, где key - id пользователя, value состоит из 2 частей: маркер файла-источника (query или url) и запрос или URL. \n",
    "\n",
    "Каждая строка на выходе reducer должна содержать 3 поля, разделенных табуляцией: id пользователя, запрос, URL.\n",
    "\n",
    "Sample Input:\n",
    "\n",
    "    user1\tquery:гугл\n",
    "    user1\turl:google.ru\n",
    "    user2\tquery:стэпик\n",
    "    user2\tquery:стэпик курсы\n",
    "    user2\turl:stepic.org\n",
    "    user2\turl:stepic.org/explore/courses\n",
    "    user3\tquery:вконтакте\n",
    "    \n",
    "Sample Output:\n",
    "\n",
    "    user1\tгугл\tgoogle.ru\n",
    "    user2\tстэпик\tstepic.org\n",
    "    user2\tстэпик\tstepic.org/explore/courses\n",
    "    user2\tстэпик курсы\tstepic.org\n",
    "    user2\tстэпик курсы\tstepic.org/explore/courses"
   ]
  },
  {
   "cell_type": "code",
   "execution_count": 75,
   "metadata": {},
   "outputs": [
    {
     "name": "stdout",
     "output_type": "stream",
     "text": [
      "user1\tгугл\tgoogle.ru\n",
      "user2\tстэпик\tstepic.org\n",
      "user2\tстэпик\tstepic.org/explore/courses\n",
      "user2\tстэпик курсы\tstepic.org\n",
      "user2\tстэпик курсы\tstepic.org/explore/courses\n"
     ]
    }
   ],
   "source": [
    "with open('data/data12.txt', 'r', encoding='utf-8') as f:\n",
    "    \n",
    "    def print_reducer(user_id, queries, urls):\n",
    "\n",
    "        for query in queries:\n",
    "            for url in urls:\n",
    "                print(f'{last_user_id}\\t{query}\\t{url}')\n",
    "\n",
    "        del queries[:]\n",
    "        del urls[:]\n",
    "\n",
    "\n",
    "    last_user_id = None\n",
    "    queries = []\n",
    "    urls = []\n",
    "\n",
    "    for line in f:\n",
    "\n",
    "        user_id, user_value = line.strip().split(maxsplit=1)\n",
    "\n",
    "        if last_user_id and last_user_id != user_id:\n",
    "\n",
    "            print_reducer(last_user_id, queries, urls)\n",
    "\n",
    "        key, value = user_value.split(':')\n",
    "\n",
    "        queries.append(value) if key == 'query' else urls.append(value)\n",
    "\n",
    "        last_user_id = user_id\n",
    "\n",
    "    if last_user_id:\n",
    "        print_reducer(last_user_id, queries, urls)\n",
    "        "
   ]
  }
 ],
 "metadata": {
  "kernelspec": {
   "display_name": "Python 3",
   "language": "python",
   "name": "python3"
  },
  "language_info": {
   "codemirror_mode": {
    "name": "ipython",
    "version": 3
   },
   "file_extension": ".py",
   "mimetype": "text/x-python",
   "name": "python",
   "nbconvert_exporter": "python",
   "pygments_lexer": "ipython3",
   "version": "3.8.5"
  }
 },
 "nbformat": 4,
 "nbformat_minor": 4
}
