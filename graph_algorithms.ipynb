{
 "cells": [
  {
   "attachments": {
    "image.png": {
     "image/png": "[encoded data removed]"
    }
   },
   "cell_type": "markdown",
   "metadata": {},
   "source": [
    "Реализуйте алгоритм Дейкстры поиска кратчайшего пути в графе.\n",
    "\n",
    "Входные данные: В первой строке указаны два числа: число вершин и число ребер графа. Далее идут строки с описанием ребер. Их количество равно числу ребер. В каждой строке указаны 3 числа: исходящая вершина, входящая вершина, вес ребра. В последней строке указаны 2 номера вершины: начальная и конечная вершина, кратчайший путь между которыми нужно найти.\n",
    "\n",
    "Выходные данные: минимальное расстояние между заданными вершинами. Если пути нет, то нужно вернуть -1.\n",
    "\n",
    "Пример:\n",
    "\n",
    "![image.png](attachment:image.png)\n",
    "\n",
    "Sample Input:\n",
    "\n",
    "    4 8\n",
    "    1 2 6\n",
    "    1 3 2\n",
    "    1 4 10\n",
    "    2 4 4\n",
    "    3 1 5\n",
    "    3 2 3\n",
    "    3 4 8\n",
    "    4 2 1\n",
    "    1 4\n",
    "\n",
    "Sample Output:\n",
    "\n",
    "    9"
   ]
  },
  {
   "cell_type": "code",
   "execution_count": 16,
   "metadata": {},
   "outputs": [
    {
     "name": "stdout",
     "output_type": "stream",
     "text": [
      "defaultdict(<class 'dict'>, {'1': {'2': 6, '3': 2, '4': 10}, '2': {'4': 4}, '3': {'1': 5, '2': 3, '4': 8}, '4': {'2': 1}})\n",
      "9\n"
     ]
    }
   ],
   "source": [
    "from collections import defaultdict\n",
    "\n",
    "\n",
    "with open('data/data17.txt', 'r') as f:\n",
    "    \n",
    "    def dijkstra(graph, start_node):\n",
    "        \n",
    "        node = start_node\n",
    "        nodes = graph.keys()\n",
    "        \n",
    "        costs = {node: float(\"inf\") for node in nodes}\n",
    "        costs[node] = 0\n",
    "        \n",
    "        unvisited_nodes = set(nodes)\n",
    "        while unvisited_nodes:\n",
    "                \n",
    "            neighbours = graph[node]\n",
    "\n",
    "            for neighbour, neighbour_cost in neighbours.items():\n",
    "                if neighbour in unvisited_nodes:\n",
    "                    new_neighbour_cost = costs[node] + neighbour_cost\n",
    "                    if new_neighbour_cost < costs[neighbour]:\n",
    "                        costs[neighbour] = new_neighbour_cost\n",
    "            \n",
    "            unvisited_nodes.discard(node)\n",
    "            node = min(neighbours, key=neighbours.get)\n",
    "            \n",
    "        return costs\n",
    "\n",
    "\n",
    "    nodes_count, edges_count = map(int, f.readline().strip().split())\n",
    "    graph = defaultdict(dict)\n",
    "\n",
    "    for i, line in enumerate(f):\n",
    "            \n",
    "        if edges_count == i:\n",
    "            start_node, end_node = line.strip().split()\n",
    "        else:\n",
    "            node_1, node_2, str_cost = line.strip().split()\n",
    "            cost = int(str_cost)\n",
    "            graph[node_1][node_2] = cost\n",
    "            \n",
    "    print(graph)\n",
    "    \n",
    "    print(dijkstra(graph, start_node).get(end_node, '-1'))\n"
   ]
  },
  {
   "cell_type": "code",
   "execution_count": 2,
   "metadata": {},
   "outputs": [
    {
     "data": {
      "text/plain": [
       "'1'"
      ]
     },
     "execution_count": 2,
     "metadata": {},
     "output_type": "execute_result"
    }
   ],
   "source": [
    "min({'1': 0, '2': 6, '3': 2, '4': 8}, key={'1': 0, '2': 6, '3': 2, '4': 8}.get)"
   ]
  },
  {
   "cell_type": "code",
   "execution_count": 3,
   "metadata": {},
   "outputs": [
    {
     "data": {
      "text/plain": [
       "{'1', '3'}"
      ]
     },
     "execution_count": 3,
     "metadata": {},
     "output_type": "execute_result"
    }
   ],
   "source": [
    "unvisited_nodes = {'1', '3', '4'}\n",
    "unvisited_nodes.intersection({'1', '3'})"
   ]
  },
  {
   "cell_type": "code",
   "execution_count": 7,
   "metadata": {},
   "outputs": [
    {
     "data": {
      "text/plain": [
       "{'1', '4'}"
      ]
     },
     "execution_count": 7,
     "metadata": {},
     "output_type": "execute_result"
    }
   ],
   "source": [
    "unvisited_nodes.discard('3')\n",
    "unvisited_nodes"
   ]
  },
  {
   "cell_type": "code",
   "execution_count": 45,
   "metadata": {},
   "outputs": [],
   "source": [
    "from collections import defaultdict\n",
    "\n",
    "\n",
    "_dict = defaultdict(dict)\n",
    "\n",
    "_dict['a']['b'] = 5"
   ]
  },
  {
   "cell_type": "code",
   "execution_count": 49,
   "metadata": {},
   "outputs": [
    {
     "data": {
      "text/plain": [
       "{'a': {'b': 5}}"
      ]
     },
     "execution_count": 49,
     "metadata": {},
     "output_type": "execute_result"
    }
   ],
   "source": [
    "_dict = {}\n",
    "\n",
    "_dict['a'] = {'b': 5}\n",
    "_dict"
   ]
  },
  {
   "cell_type": "code",
   "execution_count": 46,
   "metadata": {},
   "outputs": [
    {
     "data": {
      "text/plain": [
       "defaultdict(dict, {'a': {'b': 5}})"
      ]
     },
     "execution_count": 46,
     "metadata": {},
     "output_type": "execute_result"
    }
   ],
   "source": [
    "_dict"
   ]
  },
  {
   "cell_type": "code",
   "execution_count": 44,
   "metadata": {},
   "outputs": [
    {
     "data": {
      "text/plain": [
       "88"
      ]
     },
     "execution_count": 44,
     "metadata": {},
     "output_type": "execute_result"
    }
   ],
   "source": [
    "import sys\n",
    "\n",
    "\n",
    "sys.getsizeof(adjacency_matrix)"
   ]
  },
  {
   "cell_type": "code",
   "execution_count": 81,
   "metadata": {},
   "outputs": [
    {
     "data": {
      "text/plain": [
       "[0, 1, 4, 9, 16]"
      ]
     },
     "execution_count": 81,
     "metadata": {},
     "output_type": "execute_result"
    }
   ],
   "source": [
    "[i**2 for i in range(5)]"
   ]
  }
 ],
 "metadata": {
  "kernelspec": {
   "display_name": "Python 3",
   "language": "python",
   "name": "python3"
  },
  "language_info": {
   "codemirror_mode": {
    "name": "ipython",
    "version": 3
   },
   "file_extension": ".py",
   "mimetype": "text/x-python",
   "name": "python",
   "nbconvert_exporter": "python",
   "pygments_lexer": "ipython3",
   "version": "3.8.5"
  }
 },
 "nbformat": 4,
 "nbformat_minor": 4
}
